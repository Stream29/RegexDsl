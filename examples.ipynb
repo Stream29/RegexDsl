{
 "cells": [
  {
   "metadata": {},
   "cell_type": "markdown",
   "source": "# Examples"
  },
  {
   "metadata": {},
   "cell_type": "markdown",
   "source": "## Import this library"
  },
  {
   "metadata": {
    "ExecuteTime": {
     "end_time": "2025-06-14T17:25:30.620189500Z",
     "start_time": "2025-06-14T17:25:26.933427800Z"
    }
   },
   "cell_type": "code",
   "source": [
    "@file:DependsOn(\"io.github.stream29:regexdsl-jvm:0.1.0\")\n",
    "import io.github.stream29.regexdsl.*"
   ],
   "outputs": [],
   "execution_count": 1
  },
  {
   "metadata": {},
   "cell_type": "markdown",
   "source": "## hello world"
  },
  {
   "metadata": {
    "ExecuteTime": {
     "end_time": "2025-06-14T17:25:31.034821900Z",
     "start_time": "2025-06-14T17:25:30.631241400Z"
    }
   },
   "cell_type": "code",
   "source": [
    "val helloWorldRegex = buildRegex {\n",
    "    match(\"hello\")\n",
    "    match(spaceChar)\n",
    "    match(\"world\")\n",
    "}\n",
    "println(helloWorldRegex.pattern)\n",
    "println(helloWorldRegex.matches(\"hello world\"))"
   ],
   "outputs": [
    {
     "name": "stdout",
     "output_type": "stream",
     "text": [
      "hello\\sworld\r\n",
      "true\r\n"
     ]
    }
   ],
   "execution_count": 2
  },
  {
   "metadata": {},
   "cell_type": "markdown",
   "source": "## Phone number"
  },
  {
   "metadata": {
    "ExecuteTime": {
     "end_time": "2025-06-14T17:25:31.469477700Z",
     "start_time": "2025-06-14T17:25:31.056574800Z"
    }
   },
   "cell_type": "code",
   "source": [
    "val phoneNumberRegex = buildRegex {\n",
    "    match(digitChar, Quantifier.exactly(3))\n",
    "    match(\"-\")\n",
    "    match(digitChar, Quantifier.exactly(3))\n",
    "    match(\"-\")\n",
    "    match(digitChar, Quantifier.exactly(4))\n",
    "}\n",
    "println(phoneNumberRegex.pattern)\n",
    "println(phoneNumberRegex.matches(\"123-456-7890\"))"
   ],
   "outputs": [
    {
     "name": "stdout",
     "output_type": "stream",
     "text": [
      "\\d{3}-\\d{3}-\\d{4}\r\n",
      "true\r\n"
     ]
    }
   ],
   "execution_count": 3
  },
  {
   "metadata": {},
   "cell_type": "markdown",
   "source": "## Email"
  },
  {
   "metadata": {
    "ExecuteTime": {
     "end_time": "2025-06-14T17:25:32.267943Z",
     "start_time": "2025-06-14T17:25:31.486478500Z"
    }
   },
   "cell_type": "code",
   "source": [
    "val emailRegex = buildRegex {\n",
    "    matchStringBegin()\n",
    "    matchNamedGroup(\"username\") {\n",
    "        matchCharacterSet(Quantifier.atLeastOne) {\n",
    "            add(digitChar)\n",
    "            add(wordChar)\n",
    "            add('_')\n",
    "        }\n",
    "    }\n",
    "    match(\"@\")\n",
    "    matchNamedGroup(\"domain\") {\n",
    "        match(wordChar, Quantifier.atLeastOne)\n",
    "        matchUncapturedGroup(Quantifier.atLeastOne) {\n",
    "            match('.')\n",
    "            match(wordChar, Quantifier.atLeastOne)\n",
    "        }\n",
    "    }\n",
    "    matchStringEnd()\n",
    "}\n",
    "\n",
    "println(emailRegex.pattern)\n",
    "val emailMatchGroups = emailRegex.matchEntire(\"stream@dify.ai\")!!.groups\n",
    "println(emailMatchGroups[\"username\"])\n",
    "println(emailMatchGroups[\"domain\"])"
   ],
   "outputs": [
    {
     "name": "stdout",
     "output_type": "stream",
     "text": [
      "^(?<username>[\\d\\w_]+)@(?<domain>\\w+(?:\\.\\w+)+)$\r\n",
      "MatchGroup(value=stream, range=0..5)\r\n",
      "MatchGroup(value=dify.ai, range=7..13)\r\n"
     ]
    }
   ],
   "execution_count": 4
  },
  {
   "metadata": {},
   "cell_type": "markdown",
   "source": "## URL"
  },
  {
   "metadata": {
    "ExecuteTime": {
     "end_time": "2025-06-14T17:30:34.601081300Z",
     "start_time": "2025-06-14T17:30:34.223483100Z"
    }
   },
   "cell_type": "code",
   "source": [
    "val urlRegex = buildRegex {\n",
    "    matchStringBegin()\n",
    "    matchNamedGroup(\"protocol\") {\n",
    "        match(\"http\")\n",
    "        match('s', Quantifier.atMostOne)\n",
    "    }\n",
    "    match(\"://\")\n",
    "    matchIndexedGroup {\n",
    "        matchNamedGroup(\"ip\") {\n",
    "            match(digitChar, Quantifier.atLeastOne)\n",
    "            match('.')\n",
    "            match(digitChar, Quantifier.atLeastOne)\n",
    "            match('.')\n",
    "            match(digitChar, Quantifier.atLeastOne)\n",
    "            match('.')\n",
    "            match(digitChar, Quantifier.atLeastOne)\n",
    "            matchIndexedGroup(Quantifier.atMostOne) {\n",
    "                match(':')\n",
    "                match(digitChar, Quantifier.anyTimes)\n",
    "            }\n",
    "        }\n",
    "        insertOr()\n",
    "        matchNamedGroup(\"domain\") {\n",
    "            matchIndexedGroup(Quantifier.anyTimes) {\n",
    "                match(wordChar, Quantifier.atLeastOne)\n",
    "                match('.')\n",
    "            }\n",
    "            match(wordChar, Quantifier.atLeastOne)\n",
    "        }\n",
    "    }\n",
    "    matchNamedGroup(\"path\") {\n",
    "        matchIndexedGroup(Quantifier.anyTimes) {\n",
    "            match('/')\n",
    "            matchNegatedCharacterSet(Quantifier.atLeastOne) {\n",
    "                add('/')\n",
    "            }\n",
    "        }\n",
    "    }\n",
    "    matchStringEnd()\n",
    "}\n",
    "\n",
    "println(urlRegex.pattern)\n",
    "val urlMatchGroups = urlRegex.matchEntire(\"https://github.com/Stream29/RegexDsl\")!!.groups\n",
    "println(urlMatchGroups[\"protocol\"])\n",
    "println(urlMatchGroups[\"ip\"])\n",
    "println(urlMatchGroups[\"domain\"])\n",
    "println(urlMatchGroups[\"path\"])"
   ],
   "outputs": [
    {
     "name": "stdout",
     "output_type": "stream",
     "text": [
      "^(?<protocol>https?)://((?<ip>\\d+\\.\\d+\\.\\d+\\.\\d+(:\\d*)?)|(?<domain>(\\w+\\.)*\\w+))(?<path>(/[^/]+)*)$\r\n",
      "MatchGroup(value=https, range=0..4)\r\n",
      "null\r\n",
      "MatchGroup(value=github.com, range=8..17)\r\n",
      "MatchGroup(value=/Stream29/RegexDsl, range=18..35)\r\n"
     ]
    }
   ],
   "execution_count": 7
  },
  {
   "metadata": {},
   "cell_type": "markdown",
   "source": "## Groups and backreferences"
  },
  {
   "metadata": {
    "ExecuteTime": {
     "end_time": "2025-06-14T17:40:38.438762100Z",
     "start_time": "2025-06-14T17:40:38.236686600Z"
    }
   },
   "cell_type": "code",
   "source": [
    "val backReferenceRegex = buildRegex {\n",
    "    val group = matchNamedGroup(\"repeatWord\") {\n",
    "        matchWordBoundary()\n",
    "        match(wordChar, Quantifier.atLeastOne)\n",
    "        matchWordBoundary()\n",
    "    }\n",
    "    match(anyChar, Quantifier.anyTimes)\n",
    "    match(group)\n",
    "}\n",
    "println(backReferenceRegex.pattern)\n",
    "val backReferenceMatchGroups = backReferenceRegex.matchEntire(\"Stream opened a FileStream\")!!.groups\n",
    "println(backReferenceMatchGroups[\"repeatWord\"])"
   ],
   "outputs": [
    {
     "name": "stdout",
     "output_type": "stream",
     "text": [
      "(?<repeatWord>\\b\\w+\\b).*\\k<repeatWord>\r\n",
      "MatchGroup(value=Stream, range=0..5)\r\n"
     ]
    }
   ],
   "execution_count": 8
  }
 ],
 "metadata": {
  "kernelspec": {
   "display_name": "Kotlin",
   "language": "kotlin",
   "name": "kotlin"
  },
  "language_info": {
   "name": "kotlin",
   "version": "1.9.23",
   "mimetype": "text/x-kotlin",
   "file_extension": ".kt",
   "pygments_lexer": "kotlin",
   "codemirror_mode": "text/x-kotlin",
   "nbconvert_exporter": ""
  }
 },
 "nbformat": 4,
 "nbformat_minor": 0
}
